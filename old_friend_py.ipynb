{
 "cells": [
  {
   "cell_type": "code",
   "execution_count": 1,
   "metadata": {},
   "outputs": [],
   "source": [
    "import pandas as pd"
   ]
  },
  {
   "cell_type": "code",
   "execution_count": 2,
   "metadata": {},
   "outputs": [],
   "source": [
    "def create_data(year):\n",
    "    data = pd.read_csv(\"president.csv\")\n",
    "    new = data[data.year == year]\n",
    "    dem_or_rep = new[(new.party_simplified == \"DEMOCRAT\") | (new.party_simplified == \"REPUBLICAN\")]\n",
    "    dem_or_rep = dem_or_rep[[\"state\", \"candidate\",\"party_simplified\", \"candidatevotes\",\"totalvotes\"]]\n",
    "    dem_or_rep[\"state\"] = dem_or_rep[\"state\"].str.title()\n",
    "    dem_or_rep[\"party_simplified\"] = dem_or_rep[\"party_simplified\"].str.title()\n",
    "    dem_or_rep.replace(to_replace=\"District Of Columbia\", value = \"District of Columbia\",inplace=True)\n",
    "    dem_or_rep.to_csv(\"map_\" + str(year) + \".csv\")"
   ]
  },
  {
   "cell_type": "code",
   "execution_count": 3,
   "metadata": {},
   "outputs": [],
   "source": [
    "for year in range(1976,2024,4):\n",
    "    create_data(year)"
   ]
  }
 ],
 "metadata": {
  "kernelspec": {
   "display_name": "Python 3",
   "language": "python",
   "name": "python3"
  },
  "language_info": {
   "codemirror_mode": {
    "name": "ipython",
    "version": 3
   },
   "file_extension": ".py",
   "mimetype": "text/x-python",
   "name": "python",
   "nbconvert_exporter": "python",
   "pygments_lexer": "ipython3",
   "version": "3.8.5"
  }
 },
 "nbformat": 4,
 "nbformat_minor": 4
}
