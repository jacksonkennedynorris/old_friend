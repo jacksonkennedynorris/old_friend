{
 "cells": [
  {
   "cell_type": "code",
   "execution_count": 5,
   "metadata": {},
   "outputs": [],
   "source": [
    "import pandas as pd "
   ]
  },
  {
   "cell_type": "code",
   "execution_count": 6,
   "metadata": {},
   "outputs": [],
   "source": [
    "def create_data(year):\n",
    "    data = pd.read_csv(\"president.csv\")\n",
    "    new = data[data.year == year]\n",
    "    dem_or_rep = new[(new.party_detailed == \"DEMOCRAT\") | (new.party_detailed == \"REPUBLICAN\")]\n",
    "    dem_or_rep = dem_or_rep[[\"state\", \"candidate\",\"party_detailed\", \"candidatevotes\",\"totalvotes\"]]\n",
    "    dem_or_rep[\"state\"] = dem_or_rep[\"state\"].str.title()\n",
    "    dem_or_rep[\"party_detailed\"] = dem_or_rep[\"party_detailed\"].str.title()\n",
    "    dem_or_rep.replace(to_replace=\"District Of Columbia\", value = \"District of Columbia\",inplace=True)\n",
    "    dem_or_rep.to_csv(\"map_\" + str(year) + \".csv\")"
   ]
  },
  {
   "cell_type": "code",
   "execution_count": 7,
   "metadata": {},
   "outputs": [],
   "source": [
    "for year in range(1976,2024,4):\n",
    "    create_data(year)"
   ]
  },
  {
   "cell_type": "code",
   "execution_count": 4,
   "metadata": {
    "scrolled": true
   },
   "outputs": [
    {
     "ename": "NameError",
     "evalue": "name 'data' is not defined",
     "output_type": "error",
     "traceback": [
      "\u001b[0;31m---------------------------------------------------------------------------\u001b[0m",
      "\u001b[0;31mNameError\u001b[0m                                 Traceback (most recent call last)",
      "\u001b[0;32m<ipython-input-4-95f939a74560>\u001b[0m in \u001b[0;36m<module>\u001b[0;34m\u001b[0m\n\u001b[0;32m----> 1\u001b[0;31m \u001b[0myear\u001b[0m \u001b[0;34m=\u001b[0m \u001b[0mdata\u001b[0m\u001b[0;34m[\u001b[0m\u001b[0mdata\u001b[0m\u001b[0;34m.\u001b[0m\u001b[0myear\u001b[0m \u001b[0;34m==\u001b[0m \u001b[0;36m2020\u001b[0m\u001b[0;34m]\u001b[0m\u001b[0;34m\u001b[0m\u001b[0;34m\u001b[0m\u001b[0m\n\u001b[0m",
      "\u001b[0;31mNameError\u001b[0m: name 'data' is not defined"
     ]
    }
   ],
   "source": [
    "year = data[data.year == 2020]"
   ]
  },
  {
   "cell_type": "code",
   "execution_count": null,
   "metadata": {},
   "outputs": [],
   "source": [
    "dem_or_rep = year[(year.party_detailed == \"DEMOCRAT\") | (year.party_detailed == \"REPUBLICAN\")]"
   ]
  },
  {
   "cell_type": "code",
   "execution_count": null,
   "metadata": {},
   "outputs": [],
   "source": [
    "dem_or_rep = dem_or_rep[[\"state\", \"candidate\",\"party_detailed\", \"candidatevotes\",\"totalvotes\"]]"
   ]
  },
  {
   "cell_type": "code",
   "execution_count": null,
   "metadata": {},
   "outputs": [],
   "source": [
    "dem_or_rep[\"state\"] = dem_or_rep[\"state\"].str.title()"
   ]
  },
  {
   "cell_type": "code",
   "execution_count": null,
   "metadata": {},
   "outputs": [],
   "source": [
    "dem_or_rep[\"party_detailed\"] = dem_or_rep[\"party_detailed\"].str.title()"
   ]
  },
  {
   "cell_type": "code",
   "execution_count": null,
   "metadata": {
    "scrolled": true
   },
   "outputs": [],
   "source": [
    "dem_or_rep.replace(to_replace=\"District Of Columbia\", value = \"District of Columbia\",inplace=True)"
   ]
  },
  {
   "cell_type": "code",
   "execution_count": null,
   "metadata": {},
   "outputs": [],
   "source": [
    "dem_or_rep.to_csv(\"trump_biden.csv\")"
   ]
  }
 ],
 "metadata": {
  "kernelspec": {
   "display_name": "Python 3",
   "language": "python",
   "name": "python3"
  },
  "language_info": {
   "codemirror_mode": {
    "name": "ipython",
    "version": 3
   },
   "file_extension": ".py",
   "mimetype": "text/x-python",
   "name": "python",
   "nbconvert_exporter": "python",
   "pygments_lexer": "ipython3",
   "version": "3.8.5"
  }
 },
 "nbformat": 4,
 "nbformat_minor": 4
}
